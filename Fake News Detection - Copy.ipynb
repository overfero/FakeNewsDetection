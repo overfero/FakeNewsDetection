{
 "cells": [
  {
   "cell_type": "code",
   "execution_count": 1,
   "id": "616e04f4",
   "metadata": {},
   "outputs": [],
   "source": [
    "import pandas as pd\n",
    "import numpy as np\n",
    "import seaborn as sns\n",
    "import matplotlib.pyplot as plt\n",
    "import nltk\n",
    "import string\n",
    "import re\n",
    "%matplotlib inline\n",
    "import warnings\n",
    "warnings.filterwarnings('ignore')\n",
    "import graphviz\n",
    "from Sastrawi.Stemmer.StemmerFactory import StemmerFactory"
   ]
  },
  {
   "cell_type": "code",
   "execution_count": 2,
   "id": "2f5f6e14",
   "metadata": {},
   "outputs": [],
   "source": [
    "raw = pd.read_csv('Scrapping.csv',encoding_errors='ignore',sep=';')\n",
    "raw1 = pd.read_csv('500_berita_indonesia.csv',encoding_errors='ignore',sep=';')\n",
    "raw2 = pd.read_csv(\"600 news with valid hoax label.csv\",encoding_errors='ignore',sep=';')\n",
    "barun = pd.read_csv('hoax.csv')\n",
    "benan = pd.read_csv('fact.csv')\n",
    "detik = pd.read_csv('fact_detik.csv') "
   ]
  },
  {
   "cell_type": "code",
   "execution_count": 3,
   "id": "0f79a5ce",
   "metadata": {},
   "outputs": [
    {
     "data": {
      "text/html": [
       "<div>\n",
       "<style scoped>\n",
       "    .dataframe tbody tr th:only-of-type {\n",
       "        vertical-align: middle;\n",
       "    }\n",
       "\n",
       "    .dataframe tbody tr th {\n",
       "        vertical-align: top;\n",
       "    }\n",
       "\n",
       "    .dataframe thead th {\n",
       "        text-align: right;\n",
       "    }\n",
       "</style>\n",
       "<table border=\"1\" class=\"dataframe\">\n",
       "  <thead>\n",
       "    <tr style=\"text-align: right;\">\n",
       "      <th></th>\n",
       "      <th>Label</th>\n",
       "      <th>Headline</th>\n",
       "      <th>Body</th>\n",
       "      <th>Unnamed: 3</th>\n",
       "      <th>Unnamed: 4</th>\n",
       "      <th>Unnamed: 5</th>\n",
       "      <th>Unnamed: 6</th>\n",
       "    </tr>\n",
       "  </thead>\n",
       "  <tbody>\n",
       "    <tr>\n",
       "      <th>0</th>\n",
       "      <td>1</td>\n",
       "      <td>Pertamina dan Pemerintah Kalrifikasi Isu BBM N...</td>\n",
       "      <td>Foto: Kumparan.com Debunk ini berisi iKlarifik...</td>\n",
       "      <td>NaN</td>\n",
       "      <td>NaN</td>\n",
       "      <td>NaN</td>\n",
       "      <td>NaN</td>\n",
       "    </tr>\n",
       "    <tr>\n",
       "      <th>1</th>\n",
       "      <td>1</td>\n",
       "      <td>Polda Nusa Tenggara Barat Mengklarifkasi Bahwa...</td>\n",
       "      <td>Foto Ilustrasi Perkosaan Debunk ini berisi kla...</td>\n",
       "      <td>NaN</td>\n",
       "      <td>NaN</td>\n",
       "      <td>NaN</td>\n",
       "      <td>NaN</td>\n",
       "    </tr>\n",
       "    <tr>\n",
       "      <th>2</th>\n",
       "      <td>1</td>\n",
       "      <td>PT Ultrajaya Milk Industry Tbk Mengklarifikasi...</td>\n",
       "      <td>Debunk ini berisi klarifikasi dari PT Ultrajay...</td>\n",
       "      <td>NaN</td>\n",
       "      <td>NaN</td>\n",
       "      <td>NaN</td>\n",
       "      <td>NaN</td>\n",
       "    </tr>\n",
       "    <tr>\n",
       "      <th>3</th>\n",
       "      <td>1</td>\n",
       "      <td>BBKSDA Jatim Mengklarifikasi Bahwa Wisata Alam...</td>\n",
       "      <td>foto: tribunnews.com Debunk ini berisi Klrifik...</td>\n",
       "      <td>NaN</td>\n",
       "      <td>NaN</td>\n",
       "      <td>NaN</td>\n",
       "      <td>NaN</td>\n",
       "    </tr>\n",
       "    <tr>\n",
       "      <th>4</th>\n",
       "      <td>1</td>\n",
       "      <td>BMKG Mataram Menghimbau Agar Warga Tidak Langs...</td>\n",
       "      <td>Foto: tribunnews.com (Jokowi sedang memantau l...</td>\n",
       "      <td>NaN</td>\n",
       "      <td>NaN</td>\n",
       "      <td>NaN</td>\n",
       "      <td>NaN</td>\n",
       "    </tr>\n",
       "  </tbody>\n",
       "</table>\n",
       "</div>"
      ],
      "text/plain": [
       "   Label                                           Headline  \\\n",
       "0      1  Pertamina dan Pemerintah Kalrifikasi Isu BBM N...   \n",
       "1      1  Polda Nusa Tenggara Barat Mengklarifkasi Bahwa...   \n",
       "2      1  PT Ultrajaya Milk Industry Tbk Mengklarifikasi...   \n",
       "3      1  BBKSDA Jatim Mengklarifikasi Bahwa Wisata Alam...   \n",
       "4      1  BMKG Mataram Menghimbau Agar Warga Tidak Langs...   \n",
       "\n",
       "                                                Body  Unnamed: 3  Unnamed: 4  \\\n",
       "0  Foto: Kumparan.com Debunk ini berisi iKlarifik...         NaN         NaN   \n",
       "1  Foto Ilustrasi Perkosaan Debunk ini berisi kla...         NaN         NaN   \n",
       "2  Debunk ini berisi klarifikasi dari PT Ultrajay...         NaN         NaN   \n",
       "3  foto: tribunnews.com Debunk ini berisi Klrifik...         NaN         NaN   \n",
       "4  Foto: tribunnews.com (Jokowi sedang memantau l...         NaN         NaN   \n",
       "\n",
       "   Unnamed: 5  Unnamed: 6  \n",
       "0         NaN         NaN  \n",
       "1         NaN         NaN  \n",
       "2         NaN         NaN  \n",
       "3         NaN         NaN  \n",
       "4         NaN         NaN  "
      ]
     },
     "execution_count": 3,
     "metadata": {},
     "output_type": "execute_result"
    }
   ],
   "source": [
    "raw.head()"
   ]
  },
  {
   "cell_type": "code",
   "execution_count": 4,
   "id": "b1e09e9e",
   "metadata": {},
   "outputs": [
    {
     "data": {
      "text/html": [
       "<div>\n",
       "<style scoped>\n",
       "    .dataframe tbody tr th:only-of-type {\n",
       "        vertical-align: middle;\n",
       "    }\n",
       "\n",
       "    .dataframe tbody tr th {\n",
       "        vertical-align: top;\n",
       "    }\n",
       "\n",
       "    .dataframe thead th {\n",
       "        text-align: right;\n",
       "    }\n",
       "</style>\n",
       "<table border=\"1\" class=\"dataframe\">\n",
       "  <thead>\n",
       "    <tr style=\"text-align: right;\">\n",
       "      <th></th>\n",
       "      <th>kategori</th>\n",
       "      <th>berita</th>\n",
       "    </tr>\n",
       "  </thead>\n",
       "  <tbody>\n",
       "    <tr>\n",
       "      <th>0</th>\n",
       "      <td>valid</td>\n",
       "      <td>\"Gunung Agung erupsi untuk pertama kali pada 2...</td>\n",
       "    </tr>\n",
       "    <tr>\n",
       "      <th>1</th>\n",
       "      <td>valid</td>\n",
       "      <td>\"Jakarta, CNN Indonesia -- Menteri BUMN Erick ...</td>\n",
       "    </tr>\n",
       "    <tr>\n",
       "      <th>2</th>\n",
       "      <td>valid</td>\n",
       "      <td>\"Dosen Fakultas Kedokteran Hewan IPB, Yusuf Ri...</td>\n",
       "    </tr>\n",
       "    <tr>\n",
       "      <th>3</th>\n",
       "      <td>valid</td>\n",
       "      <td>\"Jakarta - Dua anggota TNI, Serda N dan Serda ...</td>\n",
       "    </tr>\n",
       "    <tr>\n",
       "      <th>4</th>\n",
       "      <td>valid</td>\n",
       "      <td>\"Akui Tembak Jatuh Pesawat Ukraina, Iran Tuai ...</td>\n",
       "    </tr>\n",
       "  </tbody>\n",
       "</table>\n",
       "</div>"
      ],
      "text/plain": [
       "  kategori                                             berita\n",
       "0    valid  \"Gunung Agung erupsi untuk pertama kali pada 2...\n",
       "1    valid  \"Jakarta, CNN Indonesia -- Menteri BUMN Erick ...\n",
       "2    valid  \"Dosen Fakultas Kedokteran Hewan IPB, Yusuf Ri...\n",
       "3    valid  \"Jakarta - Dua anggota TNI, Serda N dan Serda ...\n",
       "4    valid  \"Akui Tembak Jatuh Pesawat Ukraina, Iran Tuai ..."
      ]
     },
     "execution_count": 4,
     "metadata": {},
     "output_type": "execute_result"
    }
   ],
   "source": [
    "raw1.head()"
   ]
  },
  {
   "cell_type": "code",
   "execution_count": 5,
   "id": "6457ded9",
   "metadata": {},
   "outputs": [
    {
     "data": {
      "text/html": [
       "<div>\n",
       "<style scoped>\n",
       "    .dataframe tbody tr th:only-of-type {\n",
       "        vertical-align: middle;\n",
       "    }\n",
       "\n",
       "    .dataframe tbody tr th {\n",
       "        vertical-align: top;\n",
       "    }\n",
       "\n",
       "    .dataframe thead th {\n",
       "        text-align: right;\n",
       "    }\n",
       "</style>\n",
       "<table border=\"1\" class=\"dataframe\">\n",
       "  <thead>\n",
       "    <tr style=\"text-align: right;\">\n",
       "      <th></th>\n",
       "      <th>berita</th>\n",
       "      <th>tagging</th>\n",
       "    </tr>\n",
       "  </thead>\n",
       "  <tbody>\n",
       "    <tr>\n",
       "      <th>0</th>\n",
       "      <td>Jakarta, Di jejaring sosial, banyak beredar in...</td>\n",
       "      <td>Valid</td>\n",
       "    </tr>\n",
       "    <tr>\n",
       "      <th>1</th>\n",
       "      <td>Isu bahwa ikan lele mengandung sel kanker di j...</td>\n",
       "      <td>Valid</td>\n",
       "    </tr>\n",
       "    <tr>\n",
       "      <th>2</th>\n",
       "      <td>Bagi penikmat kuliner dengan bahan dasar ikan ...</td>\n",
       "      <td>Valid</td>\n",
       "    </tr>\n",
       "    <tr>\n",
       "      <th>3</th>\n",
       "      <td>Ikan lele merupakan salah satu makanan favorit...</td>\n",
       "      <td>Valid</td>\n",
       "    </tr>\n",
       "    <tr>\n",
       "      <th>4</th>\n",
       "      <td>Ikan lele merupakan bahan makanan yang cukup p...</td>\n",
       "      <td>Valid</td>\n",
       "    </tr>\n",
       "  </tbody>\n",
       "</table>\n",
       "</div>"
      ],
      "text/plain": [
       "                                              berita tagging\n",
       "0  Jakarta, Di jejaring sosial, banyak beredar in...   Valid\n",
       "1  Isu bahwa ikan lele mengandung sel kanker di j...   Valid\n",
       "2  Bagi penikmat kuliner dengan bahan dasar ikan ...   Valid\n",
       "3  Ikan lele merupakan salah satu makanan favorit...   Valid\n",
       "4  Ikan lele merupakan bahan makanan yang cukup p...   Valid"
      ]
     },
     "execution_count": 5,
     "metadata": {},
     "output_type": "execute_result"
    }
   ],
   "source": [
    "raw2.head()"
   ]
  },
  {
   "cell_type": "code",
   "execution_count": 6,
   "id": "27e94472",
   "metadata": {},
   "outputs": [],
   "source": [
    "raw.drop(['Unnamed: 3', 'Unnamed: 4', 'Unnamed: 5',\n",
    "       'Unnamed: 6'],axis=1,inplace=True)"
   ]
  },
  {
   "cell_type": "code",
   "execution_count": 7,
   "id": "7f87e417",
   "metadata": {},
   "outputs": [
    {
     "name": "stdout",
     "output_type": "stream",
     "text": [
      "2019\n",
      "\n",
      "\n",
      "\n",
      "\n",
      "hasil periksa fakta Rahmah an.\n",
      "Informasi palsu. Melalui akun Twitter @DitenKN, DJKN menegaskan bahwa informasi terkait lelang hanya melalui situs resmi lelang.go.id, selain itu maka dipastikan informasi tersebut adalah penipuan.\n",
      "Selengkapnya di penjelasan.\n",
      "===[KATEGORI]: KONTEN PALSU\n",
      "===\n",
      "[SUMBER]: I-Flyer\n",
      "\n",
      "===\n",
      "[NARASI]:“FESTIVAL LELANG TAHUNANModernisasi lelang untuk proses jual beli paling aman dan terpercaya atas aset rampasan oleh DJKN juga Bank Swasta.01-03 JUNI 2022″\n",
      "===[PENJELASAN]:\n",
      "Beredar tangkapan layar sebuah poster yang menginformasikan adanya festival lelang tahunan diselenggarakan oleh Direktorat Jenderal Kekayaan Negara (DJKN). Dalam poster tersebut disebutkan bahwa kegiatan dilaksanakan pada 1 Juni hingga 3 Juni 2022.\n",
      "Setelah ditelusuri, poster festival lelang tahunan yang beredar adalah hoaks. DJKN melalui akun Twitter resminya @DitjenKn menegaskan poster tersebut adalah penipuan, informasi terkait lelang hanya melalui lelang.go.id. Pihak DJKN mengimbau agar tidak mentransfer uang ke rekening pribadi untuk kegiatan yang mengatasnamakan institusi.\n",
      "Berdasarkan informasi di atas, poster festival lelang tahunan oleh DJKN adalah palsu dan masuk kategori konten palsu.\n",
      "===[REFERENSI]https://twitter.com/DitjenKN/status/1532155154715545600t=HrdXSZa8d4QHZlNi9CHSEg&s=19\n",
      "\n",
      "\n"
     ]
    }
   ],
   "source": [
    "random = np.random.randint(0,len(barun))\n",
    "print(random)\n",
    "print(barun['0'][random])"
   ]
  },
  {
   "cell_type": "code",
   "execution_count": 8,
   "id": "9bc56a98",
   "metadata": {},
   "outputs": [
    {
     "name": "stdout",
     "output_type": "stream",
     "text": [
      "1\n",
      "Debunk ini berisi klarifikasi dari pihak bank BRI terkait informasi di media sosial yang menyebut pihak BRI akan memblokir ATM nasabahnya yang memiliki kartu ATM Private Label dan Kartu Classic jika tidak mengganti kartu ATM nya dengan kartu berchip. Informasi itu ditepis oleh Corporate Secretary Bank BRI, Bambang Tribaroto yang meneybut bahwa Demi mengutamakan kenyamanan para nasabahnya, Bank BRI tidak menetapkan tenggat waktu penggantian kartu debit non-chip menjadi kartu debit ber-chip. ====== : KLARIFIKASI ====== : MEDIA DARING ====== : Beredar di media sosial mengenai info bagi para nasabah bank BRI yang memiliki kartu ATM Private Label (Warna Biru) dan Kartu Classic (Warna Hijau) agar segera mengganti kartu ATM berchip paling lambat tanggal 30 oktober 2018, jika tidak ATM mereka akan di blokir. Dalam info tersebut ATM berwarna biru jenis Simpedes juga hijau (Britama) akan diblokir massal jika tidak diganti dengan ATM baru yang menggunakan teknologi chip. Info ini membuat heboh sekaligus panik nasabah khususnya mereka yang kini tengah berada di luar kota. Menanggapi informasi tersebut Bank BRI secara resmi mengeluarkan pernyataan melalui rilis yang diterima Tribunsumsel yang disampaikan Corporate Secretary Bank BRI, Bambang Tribaroto, Rabu (24/10/2018). Statement Bank BRI terkait penggantian kartu debit ber-chip : 1. Bank BRI menegaskan bahwa isu mengenai pemblokiran kartu debit non-chip secara otomatis pada akhir bulan Oktober 2018, tidak benar. 2. Sesuai Peraturan Bank Indonesia terkait Standar Nasional Teknologi Chip (SNTC), Bank BRI mengimbau nasabahnya untuk melakukan penggantian kartu debit non-chip menjadi kartu debit ber-chip. 3. Demi mengutamakan kenyamanan para nasabahnya, Bank BRI tidak menetapkan tenggat waktu penggantian kartu debit non-chip menjadi kartu debit ber-chip. 4. Nasabah Bank BRI diimbau agar mengunjungi unit kerja BRI terdekat untuk melakukan penggantian kartu debit menjadi kartu debit ber-chip. 5. Saat ini, nasabah BRI yang kami prioritaskan untuk melakukan penggantian kartu adalah nasabah Simpedes. Sebelumnya juga Pimpinan Cabang BRI Sriwijaya Palembang, Dhani Novan juga membantah jika BRI akan memblokir ATM nasabah tanpa solusi karena nasabah diberikan waktu tujuh hari untuk segera mengganti ATM di kantor cabang terdekat gratis tanpa dipungut biaya dan pengurusannya juga cepat. Pemblokiran ATM ini akan tetap dilakukan oleh BRI. Hanya saja bagi nasabah yang telah mendapatkan SMS dari BRI. Apabila dalam waktu 7 hari sejak SMS diterima, nasabah belum mengganti ATM maka akan dilakukan pemblokiran. ====== REFERENSI: http://sumsel.tribunnews.com/2018/10/24/atm-bri-akan-diblokir-jika-tak-ganti-baru-bukan-hoax-segera-ke-bri-jika-dapat-sms-ini?page=3\n"
     ]
    }
   ],
   "source": [
    "random = np.random.randint(0,len(raw))\n",
    "print(raw['Label'][random])\n",
    "print(raw['Body'][random])"
   ]
  },
  {
   "cell_type": "code",
   "execution_count": 9,
   "id": "0473a8b0",
   "metadata": {},
   "outputs": [
    {
     "name": "stdout",
     "output_type": "stream",
     "text": [
      "valid\n",
      "KOMPAS.com - Nintendo mengumumkan sebuah konsol terbaru yang menjadi pelengkap dari lini Nintendo Switch. Konsol bernama Nintendo Switch Lite tersebut bakal dijual dengan harga yang lebih terjangkau ketimbang versi regulernya. Lewat sebuah video singkat, General Producer Nintendo Switch, Yoshiaki Koizumi mengatakan bahwa Nintendo Switch Lite dibuat khusus untuk digunakan secara handheld. Artinya konsol ini hanya akan dapat dimainkan dalam genggaman, tanpa bisa dikoneksikan ke televisi. Menurut Koizumi, hal tersebut memang menjadi salah satu perbedaan antara Switch Lite dengan Switch versi reguler. Sesuai dengan namanya, fitur dan spesifikasi dari Nintendo Switch Lite tentu lebih rendah dan sedikit ketimbang pendahulunya. Selain tidak dapat dikoneksikan ke televisi, joystick pada Nintendo Switch Lite tidak dapat dilepas-pasang seperti Switch reguler. Alhasil jika pengguna ingin memainkan game dengan dua pemain, maka harus membeli joystick tambahan Nintendo Switch reguler. Selain dua fitur tersebut, dari sisi desain Nintendo Switch Lite pun memiliki sejumlah perbedaan. Nintendo memangkas bobot konsol ini menjadi lebih ringan, sehingga nyaman dimainkan dalam genggaman. Dikutip KompasTekno dari The Verge, Kamis (11/7/2019), Nintendo Switch Lite mengusung layar seluas 5,5 inci. Ukuran ini lebih kecil dari Switch reguler yang seluas 6,2 inci. Sementara fitur konektivitas seperti Wi-Fi, Bluetooth, dan NFC masih tersedia pada konsol ini. Sejak diluncurkan pada 2017 lalu, penjualan Nintendo Switch telah mencapai setidaknya 35 juta unit secara global. Angka ini membuat Switch menjadi salah satu konsol terlaris dari Nintendo. Nintendo Switch Lite akan mulai dijual pada 20 September 2019. Kabarnya, harga Nintendo Switch Lite berkisar 199 dollar AS (sekitar Rp 2,8 juta). Bandingkan dengan harga Nintendo Switch sendiri saat in berkisar 300 dollar AS (Rp 4 jutaan). Nintendo Switch Lite tersedia dalam tiga warna, yakni kuning, abu-abu, dan turquoise (biru).\n"
     ]
    }
   ],
   "source": [
    "random = np.random.randint(0,len(raw1))\n",
    "print(raw1['kategori'][random])\n",
    "print(raw1['berita'][random])"
   ]
  },
  {
   "cell_type": "code",
   "execution_count": 10,
   "id": "59c69c90",
   "metadata": {},
   "outputs": [
    {
     "name": "stdout",
     "output_type": "stream",
     "text": [
      "Valid\n",
      "Saat salah satu anggota keluaraga terserang stroke, biasanya anggota keluarga lain berinsiatif memberi pertolongan pertama. Misalnya, dengan menusuk ujung-ujung jemari penderita dengan jarum untuk mengecek apa ia sudah mati rasa atau belum. Lalu, membuat rapat keluarga dadakan membahas si penderita stroke mau dibawa ke rumah sakit mana dan ke dokter siapa. Inisiatif tersebut, kata Prof. Dr. Dr. Mohammad Hasan Machfoed, Sp.S(K), MS tidak penting! Hal tersebut terungkap dalam talk show Grand Kalbe Academia yang mengusung tema Indonesian Neurologist Forum di Jakarta, Sabtu (4/2) kemarin. Mohammad Hasan mengatakan, begitu salah satu anggota keluarga kena stroke, harus segera dibawa ke dokter spesialis. Jangan kebanyakan berpikir, mengadakan rapat keluarga, menelepon saudara yang dituakan, bla-bla-bla. Itu malah memperburuk keadaan. Stoke tidak bisa ditolong oleh anggota keluarga sendiri. Begini, ketika seseorang kena stroke, otak tiba-tiba kekurangan oksigen dan dalam waktu 10 menit dapat merusak seluruh otak. Setelah 10 menit itu, ia mengalami area panombra yakni antara hidup dan mati. Saat itulah, kita harus memberi pertolongan secara tepat dan hanya dokter spesialis yang bisa melakukannya. Salah memberi pertolongan bisa mengakibatkan nekrosis atau kematian sel pada seluruh jaringan tubuh, ujar Mohammad Hassan kepada tabloidbintang.com. Stroke menyerang pada waktu yang tidak terduga. Ia membawa perubahan yang sifatnya progresif. Cepat sekali. Perubahan yang sangat cepat itu, kata Mohammad Hassan, disebabkan oleh otak yang tiba-tiba kekurangan oksigen. Karena kekurangan oksigen, otak membengkak. Jika tidak cepat ditangani pembengkakan itu menyebabkan penderita meninggal dunia. Proses menuju kematian akan menjadi sangat cepat jika ia jatuh atau mengalami sumbatan di saluran napas. Yang penting, anggota keluarga mesti cermat mendeteksi gejala-gejala yang ganjil sejak dini. Misalnya, bangun tidur bicaranya pelo. Atau tiba-tiba mengalami lumpuh sebelah. Atau kondisi kejiwaanya berubah, mudah lupa, beri tahu Mohammad Hassan. Hal lain yang patut diperhatikan keluarga adalah pada pukul berapa si penderita kena stroke. Misalnya, jam 6 pagi. Anda harus gerak cepat (membawanya ke dokter) dalam waktu kurang dari empat jam setelah jam 6 pagi. Mohammad Hassan menegaskan, empat jam setelah serangan stroke terjadi adalah waktu yang paling krusial. Ia harus mendapat pertolongan yang tepat dan cepat. Jika Anda di Jakarta, Anda bisa membawa pasien ke Rumah Sakit Cipto Mangunkusumo, misalnya. Di sana, memungkinkan pasien menjalani trombolisis (proses penghancuran gumpalan darah-red) yang memungkinkan penderita stroke pulih. Syaratnya, harus mendapat pertolongan kurang dari empat jam, lanjutnya. Mohammad Hassan menilai kesadaran masyarakat Indonesia terhadap bahaya stroke sudah membaik. Namun, harus terus ditingkatkan mengingat stroke masih menjadi penyakit paling mematikan di negara ini. Karenanya, Ketua Perhimpunan Dokter Spesialis Saraf Indonesia itu menyambut baik penyelenggaraan Grand Kalbe Academia 2017. Direktur PT Kalbe Farma Michael Buyung Nugroho menambahkan, Indonesian Neurologist Forum berbicara tentang Neurological Disorder. Gangguan neurologis bisa berujung disabilitas hingga kematian. Kami ingin berkontribusi lebih dalam membangun kompetensi untuk para dokter neurologi baik yang senior maupun junior agar makin memahami neurological disorder. Mengingat penyakit ini berdampak pada penurunan produktivitas pasien dan kualitas hidup keluarga pasien.\n"
     ]
    }
   ],
   "source": [
    "random = np.random.randint(0,len(raw2))\n",
    "print(raw2['tagging'][random])\n",
    "print(raw2['berita'][random])"
   ]
  },
  {
   "cell_type": "code",
   "execution_count": 11,
   "id": "d47c73ce",
   "metadata": {},
   "outputs": [],
   "source": [
    "raw1['kategori'] = [1 if x == 'valid' else 0 for x in raw1['kategori']]\n",
    "raw2['tagging'] = [1 if x == 'Valid' else 0 for x in raw2['tagging']]"
   ]
  },
  {
   "cell_type": "code",
   "execution_count": 12,
   "id": "3910397b",
   "metadata": {},
   "outputs": [],
   "source": [
    "detik = pd.Series(detik['0'])\n",
    "semen = pd.Series([1 for x in range(len(detik))])"
   ]
  },
  {
   "cell_type": "code",
   "execution_count": 13,
   "id": "7de7edc0",
   "metadata": {
    "scrolled": true
   },
   "outputs": [
    {
     "data": {
      "text/html": [
       "<div>\n",
       "<style scoped>\n",
       "    .dataframe tbody tr th:only-of-type {\n",
       "        vertical-align: middle;\n",
       "    }\n",
       "\n",
       "    .dataframe tbody tr th {\n",
       "        vertical-align: top;\n",
       "    }\n",
       "\n",
       "    .dataframe thead th {\n",
       "        text-align: right;\n",
       "    }\n",
       "</style>\n",
       "<table border=\"1\" class=\"dataframe\">\n",
       "  <thead>\n",
       "    <tr style=\"text-align: right;\">\n",
       "      <th></th>\n",
       "      <th>text</th>\n",
       "      <th>target</th>\n",
       "    </tr>\n",
       "  </thead>\n",
       "  <tbody>\n",
       "    <tr>\n",
       "      <th>0</th>\n",
       "      <td>Foto: Kumparan.com Debunk ini berisi iKlarifik...</td>\n",
       "      <td>1</td>\n",
       "    </tr>\n",
       "    <tr>\n",
       "      <th>1</th>\n",
       "      <td>Foto Ilustrasi Perkosaan Debunk ini berisi kla...</td>\n",
       "      <td>1</td>\n",
       "    </tr>\n",
       "    <tr>\n",
       "      <th>2</th>\n",
       "      <td>Debunk ini berisi klarifikasi dari PT Ultrajay...</td>\n",
       "      <td>1</td>\n",
       "    </tr>\n",
       "    <tr>\n",
       "      <th>3</th>\n",
       "      <td>foto: tribunnews.com Debunk ini berisi Klrifik...</td>\n",
       "      <td>1</td>\n",
       "    </tr>\n",
       "    <tr>\n",
       "      <th>4</th>\n",
       "      <td>Foto: tribunnews.com (Jokowi sedang memantau l...</td>\n",
       "      <td>1</td>\n",
       "    </tr>\n",
       "    <tr>\n",
       "      <th>...</th>\n",
       "      <td>...</td>\n",
       "      <td>...</td>\n",
       "    </tr>\n",
       "    <tr>\n",
       "      <th>2211</th>\n",
       "      <td>Kabar yang beredar seputar rencana kenaikan ga...</td>\n",
       "      <td>1</td>\n",
       "    </tr>\n",
       "    <tr>\n",
       "      <th>2212</th>\n",
       "      <td>Kabar yang beredar seputar rencana kenaikan ga...</td>\n",
       "      <td>1</td>\n",
       "    </tr>\n",
       "    <tr>\n",
       "      <th>2213</th>\n",
       "      <td>Akhir-akhir ini, beredar pemberitaan yang meny...</td>\n",
       "      <td>1</td>\n",
       "    </tr>\n",
       "    <tr>\n",
       "      <th>2214</th>\n",
       "      <td>Rancangan peraturan pemerintah (RPP) tentang G...</td>\n",
       "      <td>1</td>\n",
       "    </tr>\n",
       "    <tr>\n",
       "      <th>2215</th>\n",
       "      <td>Kabar yang beredar seputar rencana kenaikan ga...</td>\n",
       "      <td>1</td>\n",
       "    </tr>\n",
       "  </tbody>\n",
       "</table>\n",
       "<p>2216 rows × 2 columns</p>\n",
       "</div>"
      ],
      "text/plain": [
       "                                                   text  target\n",
       "0     Foto: Kumparan.com Debunk ini berisi iKlarifik...       1\n",
       "1     Foto Ilustrasi Perkosaan Debunk ini berisi kla...       1\n",
       "2     Debunk ini berisi klarifikasi dari PT Ultrajay...       1\n",
       "3     foto: tribunnews.com Debunk ini berisi Klrifik...       1\n",
       "4     Foto: tribunnews.com (Jokowi sedang memantau l...       1\n",
       "...                                                 ...     ...\n",
       "2211  Kabar yang beredar seputar rencana kenaikan ga...       1\n",
       "2212  Kabar yang beredar seputar rencana kenaikan ga...       1\n",
       "2213  Akhir-akhir ini, beredar pemberitaan yang meny...       1\n",
       "2214  Rancangan peraturan pemerintah (RPP) tentang G...       1\n",
       "2215  Kabar yang beredar seputar rencana kenaikan ga...       1\n",
       "\n",
       "[2216 rows x 2 columns]"
      ]
     },
     "execution_count": 13,
     "metadata": {},
     "output_type": "execute_result"
    }
   ],
   "source": [
    "text = pd.concat([raw['Body'],raw1['berita'],raw2['berita']]).reset_index().drop('index',axis=1)\n",
    "target = pd.concat([raw['Label'],raw1['kategori'],raw2['tagging']]).reset_index().drop('index',axis=1)\n",
    "raw_final = pd.DataFrame({'text':text[0],'target':target[0]})\n",
    "raw_final"
   ]
  },
  {
   "cell_type": "code",
   "execution_count": 14,
   "id": "33e62e2c",
   "metadata": {},
   "outputs": [],
   "source": [
    "rawt = pd.concat([raw_final['text'],pd.Series(benan['0']),pd.Series(barun['0']),detik])\n",
    "rawt = rawt.reset_index().drop('index',axis=1)[0]\n",
    "rawl = [1 for x in range(len(benan))] + [0 for x in range(len(barun))]\n",
    "rawl = pd.concat([raw_final['target'], pd.Series(rawl),semen])\n",
    "rawl = rawl.reset_index().drop('index',axis=1)[0]\n",
    "raw_final = pd.concat([rawt,rawl],axis=1,names=['text','target'])"
   ]
  },
  {
   "cell_type": "code",
   "execution_count": 15,
   "id": "9cb85a54",
   "metadata": {},
   "outputs": [
    {
     "data": {
      "text/html": [
       "<div>\n",
       "<style scoped>\n",
       "    .dataframe tbody tr th:only-of-type {\n",
       "        vertical-align: middle;\n",
       "    }\n",
       "\n",
       "    .dataframe tbody tr th {\n",
       "        vertical-align: top;\n",
       "    }\n",
       "\n",
       "    .dataframe thead th {\n",
       "        text-align: right;\n",
       "    }\n",
       "</style>\n",
       "<table border=\"1\" class=\"dataframe\">\n",
       "  <thead>\n",
       "    <tr style=\"text-align: right;\">\n",
       "      <th></th>\n",
       "      <th>text</th>\n",
       "      <th>target</th>\n",
       "    </tr>\n",
       "  </thead>\n",
       "  <tbody>\n",
       "    <tr>\n",
       "      <th>0</th>\n",
       "      <td>Foto: Kumparan.com Debunk ini berisi iKlarifik...</td>\n",
       "      <td>1</td>\n",
       "    </tr>\n",
       "    <tr>\n",
       "      <th>1</th>\n",
       "      <td>Foto Ilustrasi Perkosaan Debunk ini berisi kla...</td>\n",
       "      <td>1</td>\n",
       "    </tr>\n",
       "    <tr>\n",
       "      <th>2</th>\n",
       "      <td>Debunk ini berisi klarifikasi dari PT Ultrajay...</td>\n",
       "      <td>1</td>\n",
       "    </tr>\n",
       "    <tr>\n",
       "      <th>3</th>\n",
       "      <td>foto: tribunnews.com Debunk ini berisi Klrifik...</td>\n",
       "      <td>1</td>\n",
       "    </tr>\n",
       "    <tr>\n",
       "      <th>4</th>\n",
       "      <td>Foto: tribunnews.com (Jokowi sedang memantau l...</td>\n",
       "      <td>1</td>\n",
       "    </tr>\n",
       "    <tr>\n",
       "      <th>...</th>\n",
       "      <td>...</td>\n",
       "      <td>...</td>\n",
       "    </tr>\n",
       "    <tr>\n",
       "      <th>7664</th>\n",
       "      <td>\\nJakarta - Polri mewajibkan pembuat SIM harus...</td>\n",
       "      <td>1</td>\n",
       "    </tr>\n",
       "    <tr>\n",
       "      <th>7665</th>\n",
       "      <td>\\nJakarta - Wakil Ketua MPR RI Lestari Moerdij...</td>\n",
       "      <td>1</td>\n",
       "    </tr>\n",
       "    <tr>\n",
       "      <th>7666</th>\n",
       "      <td>\\nJakarta - Sebanyak 19 pelaku Usaha Mikro Kec...</td>\n",
       "      <td>1</td>\n",
       "    </tr>\n",
       "    <tr>\n",
       "      <th>7667</th>\n",
       "      <td>\\nJakarta - Dewan Pengawas (Dewas) KPK menemuk...</td>\n",
       "      <td>1</td>\n",
       "    </tr>\n",
       "    <tr>\n",
       "      <th>7668</th>\n",
       "      <td>\\nJakarta - Seorang pria bernama Rifkho Achmad...</td>\n",
       "      <td>1</td>\n",
       "    </tr>\n",
       "  </tbody>\n",
       "</table>\n",
       "<p>7669 rows × 2 columns</p>\n",
       "</div>"
      ],
      "text/plain": [
       "                                                   text  target\n",
       "0     Foto: Kumparan.com Debunk ini berisi iKlarifik...       1\n",
       "1     Foto Ilustrasi Perkosaan Debunk ini berisi kla...       1\n",
       "2     Debunk ini berisi klarifikasi dari PT Ultrajay...       1\n",
       "3     foto: tribunnews.com Debunk ini berisi Klrifik...       1\n",
       "4     Foto: tribunnews.com (Jokowi sedang memantau l...       1\n",
       "...                                                 ...     ...\n",
       "7664  \\nJakarta - Polri mewajibkan pembuat SIM harus...       1\n",
       "7665  \\nJakarta - Wakil Ketua MPR RI Lestari Moerdij...       1\n",
       "7666  \\nJakarta - Sebanyak 19 pelaku Usaha Mikro Kec...       1\n",
       "7667  \\nJakarta - Dewan Pengawas (Dewas) KPK menemuk...       1\n",
       "7668  \\nJakarta - Seorang pria bernama Rifkho Achmad...       1\n",
       "\n",
       "[7669 rows x 2 columns]"
      ]
     },
     "execution_count": 15,
     "metadata": {},
     "output_type": "execute_result"
    }
   ],
   "source": [
    "raw_final.columns = ['text','target']\n",
    "raw_final"
   ]
  },
  {
   "cell_type": "code",
   "execution_count": 16,
   "id": "73ef96f5",
   "metadata": {},
   "outputs": [
    {
     "data": {
      "text/plain": [
       "0    4141\n",
       "1    3528\n",
       "Name: target, dtype: int64"
      ]
     },
     "execution_count": 16,
     "metadata": {},
     "output_type": "execute_result"
    }
   ],
   "source": [
    "raw_final['target'].value_counts()"
   ]
  },
  {
   "cell_type": "code",
   "execution_count": 17,
   "id": "c664becd",
   "metadata": {
    "scrolled": true
   },
   "outputs": [
    {
     "data": {
      "text/html": [
       "<div>\n",
       "<style scoped>\n",
       "    .dataframe tbody tr th:only-of-type {\n",
       "        vertical-align: middle;\n",
       "    }\n",
       "\n",
       "    .dataframe tbody tr th {\n",
       "        vertical-align: top;\n",
       "    }\n",
       "\n",
       "    .dataframe thead th {\n",
       "        text-align: right;\n",
       "    }\n",
       "</style>\n",
       "<table border=\"1\" class=\"dataframe\">\n",
       "  <thead>\n",
       "    <tr style=\"text-align: right;\">\n",
       "      <th></th>\n",
       "      <th>ada</th>\n",
       "    </tr>\n",
       "  </thead>\n",
       "  <tbody>\n",
       "    <tr>\n",
       "      <th>0</th>\n",
       "      <td>adalah</td>\n",
       "    </tr>\n",
       "    <tr>\n",
       "      <th>1</th>\n",
       "      <td>adanya</td>\n",
       "    </tr>\n",
       "    <tr>\n",
       "      <th>2</th>\n",
       "      <td>adapun</td>\n",
       "    </tr>\n",
       "    <tr>\n",
       "      <th>3</th>\n",
       "      <td>agak</td>\n",
       "    </tr>\n",
       "    <tr>\n",
       "      <th>4</th>\n",
       "      <td>agaknya</td>\n",
       "    </tr>\n",
       "    <tr>\n",
       "      <th>...</th>\n",
       "      <td>...</td>\n",
       "    </tr>\n",
       "    <tr>\n",
       "      <th>752</th>\n",
       "      <td>wong</td>\n",
       "    </tr>\n",
       "    <tr>\n",
       "      <th>753</th>\n",
       "      <td>yaitu</td>\n",
       "    </tr>\n",
       "    <tr>\n",
       "      <th>754</th>\n",
       "      <td>yakin</td>\n",
       "    </tr>\n",
       "    <tr>\n",
       "      <th>755</th>\n",
       "      <td>yakni</td>\n",
       "    </tr>\n",
       "    <tr>\n",
       "      <th>756</th>\n",
       "      <td>yang</td>\n",
       "    </tr>\n",
       "  </tbody>\n",
       "</table>\n",
       "<p>757 rows × 1 columns</p>\n",
       "</div>"
      ],
      "text/plain": [
       "         ada\n",
       "0     adalah\n",
       "1     adanya\n",
       "2     adapun\n",
       "3       agak\n",
       "4    agaknya\n",
       "..       ...\n",
       "752     wong\n",
       "753    yaitu\n",
       "754    yakin\n",
       "755    yakni\n",
       "756     yang\n",
       "\n",
       "[757 rows x 1 columns]"
      ]
     },
     "execution_count": 17,
     "metadata": {},
     "output_type": "execute_result"
    }
   ],
   "source": [
    "corpus = pd.read_csv('id.stopwords.02.01.2016.txt',sep=r'\\n')\n",
    "corpus"
   ]
  },
  {
   "cell_type": "code",
   "execution_count": 18,
   "id": "9c1cd8a1",
   "metadata": {},
   "outputs": [],
   "source": [
    "fact = StemmerFactory()\n",
    "stemmer = fact.create_stemmer()"
   ]
  },
  {
   "cell_type": "code",
   "execution_count": null,
   "id": "ac778057",
   "metadata": {},
   "outputs": [],
   "source": [
    "text[:300].apply(lambda x: stemmer.stem(x))"
   ]
  },
  {
   "cell_type": "code",
   "execution_count": 19,
   "id": "1e3b2247",
   "metadata": {},
   "outputs": [],
   "source": [
    "from nltk.tokenize import word_tokenize\n",
    "def text_preprocessing(text):\n",
    "    pattern = r'http[s]?:\\/\\/([a-z-.]+)\\/[^ \\n]*'\n",
    "    pattern1 = r'http[^ \\n]+'\n",
    "    pattern2 = r'[0-9]+'\n",
    "    rem = re.findall(pattern,text)\n",
    "    data = re.sub(r'kategori[\\s\\S]+?sumber', ' ',text.lower())\n",
    "    for x in range(len(rem)):\n",
    "        data = re.sub(pattern1,rem[x],data,count=1)\n",
    "    data = stemmer.stem(data)\n",
    "    data = re.sub(pattern2,'@',data)\n",
    "    data = ' '.join([x for x in data.split() if x not in corpus.to_numpy()])\n",
    "    return data"
   ]
  },
  {
   "cell_type": "code",
   "execution_count": 20,
   "id": "1f70dc99",
   "metadata": {},
   "outputs": [],
   "source": [
    "text = raw_final['text']\n",
    "target = raw_final['target']"
   ]
  },
  {
   "cell_type": "code",
   "execution_count": null,
   "id": "32f0e88a",
   "metadata": {},
   "outputs": [],
   "source": [
    "text = text.apply(text_preprocessing)"
   ]
  },
  {
   "cell_type": "code",
   "execution_count": 36,
   "id": "4653f98c",
   "metadata": {},
   "outputs": [
    {
     "data": {
      "text/plain": [
       "0       foto kumpar com debunk isi iklarifikasi pertam...\n",
       "1       foto ilustrasi perkosa debunk isi klarifikasi ...\n",
       "2       debunk isi klarifikasi pt ultrajaya milk indus...\n",
       "3       foto tribunnews com debunk isi klrifikasi sety...\n",
       "4       foto tribunnews com jokowi pantau lokasi benca...\n",
       "                              ...                        \n",
       "2995    hasil periksa fakta luthfiyah oj uin raden mas...\n",
       "2996    hasil periksa fakta agnes amungkasari wakil ke...\n",
       "2997    hasil periksa fakta agnes amungkasari ada info...\n",
       "2998    hasil periksa fakta agnes amungkasari rekayasa...\n",
       "2999    hasil periksa fakta putri lestari konten manip...\n",
       "Name: text, Length: 3000, dtype: object"
      ]
     },
     "execution_count": 36,
     "metadata": {},
     "output_type": "execute_result"
    }
   ],
   "source": [
    "text"
   ]
  },
  {
   "cell_type": "code",
   "execution_count": null,
   "id": "37778f25",
   "metadata": {},
   "outputs": [],
   "source": [
    "from sklearn.naive_bayes import MultinomialNB\n",
    "from sklearn.feature_extraction.text import TfidfVectorizer\n",
    "from sklearn.pipeline import Pipeline\n",
    "baseline_model = Pipeline([\n",
    "    ('tfidf',TfidfVectorizer()),\n",
    "    ('bayes',MultinomialNB())\n",
    "])"
   ]
  },
  {
   "cell_type": "code",
   "execution_count": null,
   "id": "915cd271",
   "metadata": {},
   "outputs": [],
   "source": [
    "from sklearn.model_selection import train_test_split\n",
    "seed = np.random.randint(10,200)\n",
    "print(seed)\n",
    "train_text, test_text, train_label, test_label = train_test_split(text, target, test_size=0.2, random_state=seed)\n",
    "baseline_model.fit(train_text,train_label)"
   ]
  },
  {
   "cell_type": "code",
   "execution_count": null,
   "id": "83340aa3",
   "metadata": {},
   "outputs": [],
   "source": [
    "train_label"
   ]
  },
  {
   "cell_type": "code",
   "execution_count": null,
   "id": "ebccb7ac",
   "metadata": {},
   "outputs": [],
   "source": [
    "!pip install sastrawi"
   ]
  },
  {
   "cell_type": "code",
   "execution_count": null,
   "id": "001b56b2",
   "metadata": {},
   "outputs": [],
   "source": [
    "from sklearn.metrics import confusion_matrix,accuracy_score,precision_recall_fscore_support,classification_report\n",
    "import tensorflow as tf\n",
    "def score_model(y_true,y_pred):\n",
    "    acc = accuracy_score(y_true,y_pred)*100\n",
    "    prec,rec,fsc,_ = precision_recall_fscore_support(y_true,y_pred,average='weighted')\n",
    "    model_results = {\"accuracy\": acc,\n",
    "                  \"precision\": prec,\n",
    "                  \"recall\": rec,\n",
    "                  \"f1\": fsc}\n",
    "    sns.heatmap(confusion_matrix(y_true,y_pred),annot=True,fmt='d')\n",
    "    return model_results"
   ]
  },
  {
   "cell_type": "code",
   "execution_count": null,
   "id": "b28f22ac",
   "metadata": {},
   "outputs": [],
   "source": [
    "baseline_pred = baseline_model.predict(test_text)\n",
    "score_model(test_label,baseline_pred)"
   ]
  },
  {
   "cell_type": "code",
   "execution_count": null,
   "id": "e0365288",
   "metadata": {},
   "outputs": [],
   "source": [
    "from tensorflow.keras.layers import TextVectorization,Embedding\n",
    "avg = round(sum([len(x.split()) for x in text])/len(text))\n",
    "max_vocab = 50000"
   ]
  },
  {
   "cell_type": "code",
   "execution_count": null,
   "id": "606080ae",
   "metadata": {},
   "outputs": [],
   "source": [
    "tvx = TextVectorization(\n",
    "    max_tokens=max_vocab,\n",
    "    output_sequence_length=avg,\n",
    "    output_mode='int'\n",
    ")"
   ]
  },
  {
   "cell_type": "code",
   "execution_count": null,
   "id": "e1534ee5",
   "metadata": {},
   "outputs": [],
   "source": [
    "tvx.adapt(text)"
   ]
  },
  {
   "cell_type": "code",
   "execution_count": null,
   "id": "e1e9b706",
   "metadata": {},
   "outputs": [],
   "source": [
    "random = np.random.randint(0,len(text))\n",
    "print(random)\n",
    "print(text[random])\n",
    "print(tvx(text[random]))"
   ]
  },
  {
   "cell_type": "code",
   "execution_count": null,
   "id": "025634c2",
   "metadata": {},
   "outputs": [],
   "source": [
    "vocab = tvx.get_vocabulary()\n",
    "vocab[:20]"
   ]
  },
  {
   "cell_type": "code",
   "execution_count": null,
   "id": "ed487957",
   "metadata": {},
   "outputs": [],
   "source": [
    "ebd = Embedding(\n",
    "    input_dim=max_vocab,\n",
    "    output_dim=128,\n",
    "    input_length=avg,\n",
    "    name = 'embedding'\n",
    ")"
   ]
  },
  {
   "cell_type": "code",
   "execution_count": null,
   "id": "153d9af7",
   "metadata": {},
   "outputs": [],
   "source": [
    "random = np.random.randint(0,len(text))\n",
    "print(random)\n",
    "print(text[random])\n",
    "print(ebd(tvx(text[random])))"
   ]
  },
  {
   "cell_type": "code",
   "execution_count": null,
   "id": "139cc02f",
   "metadata": {},
   "outputs": [],
   "source": [
    "from tensorflow.keras import layers,Model,Sequential\n",
    "inputs = layers.Input(shape=(1,),dtype='string')\n",
    "lay = tvx(inputs)\n",
    "lay = ebd(lay)\n",
    "lay = layers.GlobalMaxPooling1D()(lay)\n",
    "lay = layers.Dense(64,activation='relu')(lay)\n",
    "lay = layers.Dense(16,activation='relu')(lay)\n",
    "outputs = layers.Dense(1,activation='sigmoid')(lay)\n",
    "model_1 = Model(inputs,outputs,name='model_1_dense')"
   ]
  },
  {
   "cell_type": "code",
   "execution_count": null,
   "id": "1daac2c8",
   "metadata": {},
   "outputs": [],
   "source": [
    "model_1.compile(loss='binary_crossentropy', optimizer = 'adam',metrics=['accuracy'])"
   ]
  },
  {
   "cell_type": "code",
   "execution_count": null,
   "id": "ee693a7e",
   "metadata": {},
   "outputs": [],
   "source": [
    "model_1.summary()"
   ]
  },
  {
   "cell_type": "code",
   "execution_count": null,
   "id": "3a9b503f",
   "metadata": {
    "scrolled": true
   },
   "outputs": [],
   "source": [
    "from tensorflow.keras.callbacks import EarlyStopping,ModelCheckpoint\n",
    "from helper_functions import create_tensorboard_callback\n",
    "early_stop = EarlyStopping(monitor='val_accuracy', mode='max', verbose=1,patience=3)\n",
    "max_mod = ModelCheckpoint(\n",
    "    filepath='weight_best.tf',\n",
    "    monitor='val_accuracy',\n",
    "    mode='max',\n",
    "    save_best_only=True\n",
    ")\n",
    "model_1.fit(\n",
    "    train_text,\n",
    "    train_label,\n",
    "    epochs=40,\n",
    "    validation_data=(test_text,test_label),\n",
    "    callbacks=[max_mod,\n",
    "              early_stop,]\n",
    ")"
   ]
  },
  {
   "cell_type": "code",
   "execution_count": null,
   "id": "448b2a2d",
   "metadata": {},
   "outputs": [],
   "source": [
    "loss = pd.DataFrame(model_1.history.history)\n",
    "loss.plot()"
   ]
  },
  {
   "cell_type": "code",
   "execution_count": null,
   "id": "e198e5ee",
   "metadata": {},
   "outputs": [],
   "source": [
    "model_1.load_weights('weight_best.tf/')"
   ]
  },
  {
   "cell_type": "code",
   "execution_count": null,
   "id": "7051b847",
   "metadata": {},
   "outputs": [],
   "source": [
    "from tensorflow.keras.utils import plot_model\n",
    "plot_model(model_1)"
   ]
  },
  {
   "cell_type": "code",
   "execution_count": null,
   "id": "00334ada",
   "metadata": {},
   "outputs": [],
   "source": [
    "model_1.evaluate(test_text,test_label)"
   ]
  },
  {
   "cell_type": "code",
   "execution_count": null,
   "id": "5012aa67",
   "metadata": {},
   "outputs": [],
   "source": [
    "ebd.weights"
   ]
  },
  {
   "cell_type": "code",
   "execution_count": null,
   "id": "d21d9b6c",
   "metadata": {},
   "outputs": [],
   "source": [
    "pred_dense = np.squeeze(np.round(model_1.predict(test_text)))\n",
    "score_model(test_label,pred_dense)"
   ]
  },
  {
   "cell_type": "code",
   "execution_count": null,
   "id": "10b4c3ca",
   "metadata": {},
   "outputs": [],
   "source": [
    "# result = pd.DataFrame(columns=['accuracy','precision','recall','f1-score'])\n",
    "# for x in range(4):\n",
    "#     random = np.random.randint(10,200)\n",
    "#     print('Seeds : ',random)\n",
    "#     train_text, test_text, train_label, test_label = train_test_split(text, target, test_size=0.2, random_state=random)\n",
    "#     tf.keras.backend.clear_session()\n",
    "#     early_stop = EarlyStopping(monitor='val_accuracy', mode='max', verbose=1,patience=2)\n",
    "#     model_1.fit(\n",
    "#         train_text,\n",
    "#         train_label,\n",
    "#         epochs=40,\n",
    "#         validation_data=(test_text,test_label),\n",
    "#         callbacks=[early_stop])\n",
    "#     pred_dense = np.squeeze(np.round(model_1.predict(test_text)))\n",
    "#     acc = accuracy_score(test_label,pred_dense)*100\n",
    "#     prec,rec,fsc,_ = precision_recall_fscore_support(test_label,pred_dense,average='weighted')\n",
    "#     model_results = {\"accuracy\": acc,\n",
    "#                   \"precision\": prec,\n",
    "#                   \"recall\": rec,\n",
    "#                   \"f1-score\": fsc}\n",
    "#     result = pd.concat([result,pd.DataFrame(model_results,index=[x])])\n",
    "# result = pd.concat([result,pd.DataFrame(result.mean()).transpose()])\n",
    "# result"
   ]
  },
  {
   "cell_type": "code",
   "execution_count": null,
   "id": "0c2d3a10",
   "metadata": {},
   "outputs": [],
   "source": [
    "# pred_dense = np.squeeze(np.round(model_1.predict(test_text)))\n",
    "# score_model(test_label,pred_dense)"
   ]
  },
  {
   "cell_type": "code",
   "execution_count": null,
   "id": "1fd294fe",
   "metadata": {},
   "outputs": [],
   "source": [
    "vocab = tvx.get_vocabulary()\n",
    "wgt = model_1.get_layer('embedding').get_weights()[0]"
   ]
  },
  {
   "cell_type": "code",
   "execution_count": null,
   "id": "ae640a51",
   "metadata": {},
   "outputs": [],
   "source": [
    "# Code below is adapted from: https://www.tensorflow.org/tutorials/text/word_embeddings#retrieve_the_trained_word_embeddings_and_save_them_to_disk\n",
    "# import io\n",
    "\n",
    "# # Create output writers\n",
    "# out_v = io.open(\"embedding_vectors.tsv\", \"w\", encoding=\"utf-8\")\n",
    "# out_m = io.open(\"embedding_metadata.tsv\", \"w\", encoding=\"utf-8\")\n",
    "\n",
    "# # Write embedding vectors and words to file\n",
    "# for num, word in enumerate( vocab):\n",
    "#   if num == 0: \n",
    "#      continue # skip padding token\n",
    "#   vec = wgt[num]\n",
    "#   out_m.write(word + \"\\n\") # write words to file\n",
    "#   out_v.write(\"\\t\".join([str(x) for x in vec]) + \"\\n\") # write corresponding word vector to file\n",
    "# out_v.close()\n",
    "# out_m.close()\n",
    "\n",
    "# # Download files locally to upload to Embedding Projector\n",
    "# try:\n",
    "#   from google.colab import files\n",
    "# except ImportError:\n",
    "#   pass\n",
    "# else:\n",
    "#   files.download(\"embedding_vectors.tsv\")\n",
    "#   files.download(\"embedding_metadata.tsv\")"
   ]
  },
  {
   "cell_type": "code",
   "execution_count": null,
   "id": "a2058b51",
   "metadata": {},
   "outputs": [],
   "source": [
    "ebd_2 = Embedding(\n",
    "    input_dim=max_vocab,\n",
    "    output_dim=128,\n",
    "    input_length=avg,\n",
    "    name = 'embedding_2'\n",
    ")"
   ]
  },
  {
   "cell_type": "code",
   "execution_count": null,
   "id": "6bf11ef1",
   "metadata": {},
   "outputs": [],
   "source": [
    "inputs = layers.Input(shape=(1,),dtype='string')\n",
    "lay = tvx(inputs)\n",
    "lay = ebd_2(lay)\n",
    "lay = layers.LSTM(64,return_sequences=True)(lay)\n",
    "lay = layers.GlobalMaxPool1D()(lay)\n",
    "lay = layers.Dropout(0.5)(lay)\n",
    "lay = layers.Dense(16,activation='relu')(lay)\n",
    "outputs = layers.Dense(1,activation='sigmoid')(lay)\n",
    "model_2 = Model(inputs,outputs,name='model_2_lstm')"
   ]
  },
  {
   "cell_type": "code",
   "execution_count": null,
   "id": "3e11209b",
   "metadata": {},
   "outputs": [],
   "source": [
    "model_2.compile(loss='binary_crossentropy', optimizer = 'adam',metrics=['accuracy'])"
   ]
  },
  {
   "cell_type": "code",
   "execution_count": null,
   "id": "c7c117bf",
   "metadata": {},
   "outputs": [],
   "source": [
    "model_2.summary()"
   ]
  },
  {
   "cell_type": "code",
   "execution_count": null,
   "id": "f3e3ad3a",
   "metadata": {},
   "outputs": [],
   "source": [
    "early_stop = EarlyStopping(monitor='val_accuracy', mode='max', verbose=1,patience=3)\n",
    "max_mod = ModelCheckpoint(\n",
    "    filepath='weight_best.tf',\n",
    "    monitor='val_accuracy',\n",
    "    mode='max',\n",
    "    save_best_only=True\n",
    ")\n",
    "model_2.fit(\n",
    "    train_text,\n",
    "    train_label,\n",
    "    epochs=16,\n",
    "    validation_data=(test_text,test_label),\n",
    "    callbacks=[early_stop,max_mod])"
   ]
  },
  {
   "cell_type": "code",
   "execution_count": null,
   "id": "bace8a72",
   "metadata": {},
   "outputs": [],
   "source": [
    "model_2.load_weights('weight_best.tf/')"
   ]
  },
  {
   "cell_type": "code",
   "execution_count": null,
   "id": "59647194",
   "metadata": {},
   "outputs": [],
   "source": [
    "model_2.evaluate(test_text,test_label)"
   ]
  },
  {
   "cell_type": "code",
   "execution_count": null,
   "id": "49b593e6",
   "metadata": {},
   "outputs": [],
   "source": [
    "plot_model(model_2)"
   ]
  },
  {
   "cell_type": "code",
   "execution_count": null,
   "id": "23f83116",
   "metadata": {},
   "outputs": [],
   "source": [
    "pred_lstm = np.squeeze(np.round(model_2.predict(test_text)))\n",
    "score_model(test_label,pred_lstm)"
   ]
  },
  {
   "cell_type": "code",
   "execution_count": null,
   "id": "a094db05",
   "metadata": {},
   "outputs": [],
   "source": [
    "ebd_3 = Embedding(\n",
    "    input_dim=max_vocab,\n",
    "    output_dim=128,\n",
    "    input_length=avg,\n",
    "    name = 'embedding_3'\n",
    ")"
   ]
  },
  {
   "cell_type": "code",
   "execution_count": null,
   "id": "3f8a7ea0",
   "metadata": {},
   "outputs": [],
   "source": [
    "inputs = layers.Input(shape=(1,),dtype='string')\n",
    "lay = tvx(inputs)\n",
    "lay = ebd_3(lay)\n",
    "lay = layers.Bidirectional(layers.LSTM(64,return_sequences=True))(lay)\n",
    "lay = layers.GlobalMaxPool1D()(lay)\n",
    "lay = layers.Dropout(0.5)(lay)\n",
    "lay = layers.Dense(32,activation='relu')(lay)\n",
    "outputs = layers.Dense(1,activation='sigmoid')(lay)\n",
    "model_3 = Model(inputs,outputs,name='model_3_bi-lstm')"
   ]
  },
  {
   "cell_type": "code",
   "execution_count": null,
   "id": "56546e97",
   "metadata": {},
   "outputs": [],
   "source": [
    "model_3.compile(loss='binary_crossentropy',optimizer='adam',metrics=['accuracy'])"
   ]
  },
  {
   "cell_type": "code",
   "execution_count": null,
   "id": "1d26f5ff",
   "metadata": {},
   "outputs": [],
   "source": [
    "model_3.summary()"
   ]
  },
  {
   "cell_type": "code",
   "execution_count": null,
   "id": "a1704fdb",
   "metadata": {},
   "outputs": [],
   "source": [
    "max_mod = ModelCheckpoint(\n",
    "    filepath='weight_best.tf',\n",
    "    monitor='val_accuracy',\n",
    "    mode='max',\n",
    "    save_best_only=True\n",
    ")\n",
    "model_3.fit(\n",
    "    train_text,\n",
    "    train_label,\n",
    "    epochs=16,\n",
    "    validation_data=(test_text,test_label),\n",
    "    callbacks=[max_mod,\n",
    "              early_stop])"
   ]
  },
  {
   "cell_type": "code",
   "execution_count": null,
   "id": "783d7068",
   "metadata": {},
   "outputs": [],
   "source": [
    "model_3.load_weights('weight_best.tf/')"
   ]
  },
  {
   "cell_type": "code",
   "execution_count": null,
   "id": "723c4c72",
   "metadata": {},
   "outputs": [],
   "source": [
    "model_3.evaluate(test_text,test_label)"
   ]
  },
  {
   "cell_type": "code",
   "execution_count": null,
   "id": "b5dff1ae",
   "metadata": {},
   "outputs": [],
   "source": [
    "plot_model(model_3)"
   ]
  },
  {
   "cell_type": "code",
   "execution_count": null,
   "id": "76c9300c",
   "metadata": {},
   "outputs": [],
   "source": [
    "pred_bilstm = np.squeeze(np.round(model_3.predict(test_text)))\n",
    "score_model(test_label,pred_bilstm)"
   ]
  },
  {
   "cell_type": "code",
   "execution_count": null,
   "id": "fa837d5b",
   "metadata": {},
   "outputs": [],
   "source": [
    "ebd_4 = Embedding(\n",
    "    input_dim=max_vocab,\n",
    "    output_dim=128,\n",
    "    input_length=avg,\n",
    "    name = 'embedding_4'\n",
    ")"
   ]
  },
  {
   "cell_type": "code",
   "execution_count": null,
   "id": "a6157ba5",
   "metadata": {},
   "outputs": [],
   "source": [
    "inputs = layers.Input(shape=(1,),dtype='string')\n",
    "lay = tvx(inputs)\n",
    "lay = ebd_4(lay)\n",
    "lay = layers.GRU(64,return_sequences=True)(lay)\n",
    "lay = layers.GlobalMaxPool1D()(lay)\n",
    "lay = layers.Dropout(0.5)(lay)\n",
    "outputs = layers.Dense(1,activation='sigmoid')(lay)\n",
    "model_4 = Model(inputs,outputs,name='model_4_gru')"
   ]
  },
  {
   "cell_type": "code",
   "execution_count": null,
   "id": "395c6086",
   "metadata": {},
   "outputs": [],
   "source": [
    "model_4.compile(loss='binary_crossentropy',optimizer='adam',metrics=['accuracy'])"
   ]
  },
  {
   "cell_type": "code",
   "execution_count": null,
   "id": "a067c7df",
   "metadata": {},
   "outputs": [],
   "source": [
    "model_4.summary()"
   ]
  },
  {
   "cell_type": "code",
   "execution_count": null,
   "id": "9c071f69",
   "metadata": {},
   "outputs": [],
   "source": [
    "max_mod = ModelCheckpoint(\n",
    "    filepath='weight_best.tf',\n",
    "    monitor='val_accuracy',\n",
    "    mode='max',\n",
    "    save_best_only=True\n",
    ")\n",
    "model_4.fit(\n",
    "    train_text,\n",
    "    train_label,\n",
    "    epochs=16,\n",
    "    validation_data=(test_text,test_label),\n",
    "    callbacks=[max_mod,\n",
    "              early_stop])"
   ]
  },
  {
   "cell_type": "code",
   "execution_count": null,
   "id": "4a9bd304",
   "metadata": {},
   "outputs": [],
   "source": [
    "model_4.load_weights('weight_best.tf/')"
   ]
  },
  {
   "cell_type": "code",
   "execution_count": null,
   "id": "e01160a8",
   "metadata": {},
   "outputs": [],
   "source": [
    "model_4.evaluate(test_text,test_label)"
   ]
  },
  {
   "cell_type": "code",
   "execution_count": null,
   "id": "9669444f",
   "metadata": {},
   "outputs": [],
   "source": [
    "plot_model(model_4)"
   ]
  },
  {
   "cell_type": "code",
   "execution_count": null,
   "id": "f8e94d81",
   "metadata": {},
   "outputs": [],
   "source": [
    "pred_gru = np.squeeze(np.round(model_4.predict(test_text)))\n",
    "score_model(test_label,pred_gru)"
   ]
  },
  {
   "cell_type": "code",
   "execution_count": null,
   "id": "ad5d8fa9",
   "metadata": {},
   "outputs": [],
   "source": [
    "ebd_5 = Embedding(\n",
    "    input_dim=max_vocab,\n",
    "    output_dim=128,\n",
    "    input_length=avg,\n",
    "    name = 'embedding_5'\n",
    ")"
   ]
  },
  {
   "cell_type": "code",
   "execution_count": null,
   "id": "4e59e9eb",
   "metadata": {},
   "outputs": [],
   "source": [
    "inputs = layers.Input(shape=(1,),dtype='string')\n",
    "lay = tvx(inputs)\n",
    "lay = ebd_5(lay)\n",
    "lay = layers.Bidirectional(layers.GRU(64,return_sequences=True))(lay)\n",
    "lay = layers.GlobalMaxPool1D()(lay)\n",
    "lay = layers.Dropout(0.5)(lay)\n",
    "lay = layers.Dense(32,activation='relu')(lay)\n",
    "outputs = layers.Dense(1,activation='sigmoid')(lay)\n",
    "model_5 = Model(inputs,outputs,name='model_5_bi-gru')"
   ]
  },
  {
   "cell_type": "code",
   "execution_count": null,
   "id": "01626a56",
   "metadata": {},
   "outputs": [],
   "source": [
    "model_5.compile(loss='binary_crossentropy',optimizer='adam',metrics=['accuracy'])"
   ]
  },
  {
   "cell_type": "code",
   "execution_count": null,
   "id": "0fa5aecc",
   "metadata": {},
   "outputs": [],
   "source": [
    "model_5.summary()"
   ]
  },
  {
   "cell_type": "code",
   "execution_count": null,
   "id": "eed5eeba",
   "metadata": {},
   "outputs": [],
   "source": [
    "max_mod = ModelCheckpoint(\n",
    "    filepath='weight_best.tf',\n",
    "    monitor='val_accuracy',\n",
    "    mode='max',\n",
    "    save_best_only=True\n",
    ")\n",
    "model_5.fit(\n",
    "    train_text,\n",
    "    train_label,\n",
    "    epochs=16,\n",
    "    validation_data=(test_text,test_label),\n",
    "    callbacks=[max_mod,\n",
    "              early_stop])"
   ]
  },
  {
   "cell_type": "code",
   "execution_count": null,
   "id": "9cc64bae",
   "metadata": {},
   "outputs": [],
   "source": [
    "model_5.load_weights('weight_best.tf/')"
   ]
  },
  {
   "cell_type": "code",
   "execution_count": null,
   "id": "4fe79082",
   "metadata": {},
   "outputs": [],
   "source": [
    "model_5.evaluate(test_text,test_label)"
   ]
  },
  {
   "cell_type": "code",
   "execution_count": null,
   "id": "b0043384",
   "metadata": {},
   "outputs": [],
   "source": [
    "plot_model(model_5)"
   ]
  },
  {
   "cell_type": "code",
   "execution_count": null,
   "id": "58e77560",
   "metadata": {},
   "outputs": [],
   "source": [
    "pred_bigru = np.squeeze(np.round(model_5.predict(test_text)))\n",
    "score_model(test_label,pred_bigru)"
   ]
  },
  {
   "cell_type": "code",
   "execution_count": null,
   "id": "888073f6",
   "metadata": {},
   "outputs": [],
   "source": [
    "ebd_6 = Embedding(\n",
    "    input_dim=max_vocab,\n",
    "    output_dim=128,\n",
    "    input_length=avg,\n",
    "    name = 'embedding_3'\n",
    ")"
   ]
  },
  {
   "cell_type": "code",
   "execution_count": null,
   "id": "c1a30361",
   "metadata": {},
   "outputs": [],
   "source": [
    "inputs = layers.Input(shape=(1,),dtype='string')\n",
    "lay = tvx(inputs)\n",
    "lay = ebd_6(lay)\n",
    "lay = layers.Conv1D(64,kernel_size=5,padding='same',activation='relu')(lay)\n",
    "lay = layers.Dropout(0.5)(lay)\n",
    "lay = layers.GlobalMaxPool1D()(lay)\n",
    "lay = layers.Dense(32,activation='relu')(lay)\n",
    "outputs = layers.Dense(1,activation='sigmoid')(lay)\n",
    "model_6 = Model(inputs,outputs,name='model_6_conv1d')"
   ]
  },
  {
   "cell_type": "code",
   "execution_count": null,
   "id": "497a88a2",
   "metadata": {},
   "outputs": [],
   "source": [
    "model_6.compile(loss='binary_crossentropy',optimizer=tf.keras.optimizers.Adam(),metrics=['accuracy'])"
   ]
  },
  {
   "cell_type": "code",
   "execution_count": null,
   "id": "3f2f2f43",
   "metadata": {},
   "outputs": [],
   "source": [
    "model_6.summary()"
   ]
  },
  {
   "cell_type": "code",
   "execution_count": null,
   "id": "a75072b0",
   "metadata": {},
   "outputs": [],
   "source": [
    "from tensorflow.keras.callbacks import LearningRateScheduler\n",
    "max_mod = ModelCheckpoint(\n",
    "    filepath='weight_best.tf',\n",
    "    monitor='val_accuracy',\n",
    "    mode='max',\n",
    "    save_best_only=True)\n",
    "history = model_6.fit(\n",
    "    train_text,\n",
    "    train_label,\n",
    "    epochs=16,\n",
    "    validation_data=(test_text,test_label),\n",
    "    callbacks=[max_mod,\n",
    "              early_stop,])"
   ]
  },
  {
   "cell_type": "code",
   "execution_count": null,
   "id": "487b7833",
   "metadata": {},
   "outputs": [],
   "source": [
    "model_6.load_weights('weight_best.tf/')"
   ]
  },
  {
   "cell_type": "code",
   "execution_count": null,
   "id": "b5ec80d5",
   "metadata": {},
   "outputs": [],
   "source": [
    "model_6.evaluate(test_text,test_label)"
   ]
  },
  {
   "cell_type": "code",
   "execution_count": null,
   "id": "26db7907",
   "metadata": {},
   "outputs": [],
   "source": [
    "plot_model(model_6)"
   ]
  },
  {
   "cell_type": "code",
   "execution_count": null,
   "id": "86278c87",
   "metadata": {},
   "outputs": [],
   "source": [
    "pd.DataFrame(history.history).plot()"
   ]
  },
  {
   "cell_type": "code",
   "execution_count": null,
   "id": "8fa2e88a",
   "metadata": {},
   "outputs": [],
   "source": [
    "pred_conv1d = np.squeeze(np.round(model_6.predict(test_text)))\n",
    "score_model(test_label,pred_conv1d)"
   ]
  },
  {
   "cell_type": "code",
   "execution_count": null,
   "id": "77b53bd4",
   "metadata": {},
   "outputs": [],
   "source": [
    "coba = text_preprocessing('''Hasil Periksa Fakta Dyah Febriyani\n",
    "\n",
    "Faktanya video tersebut merupakan acara Reuni 212 pada tahun 2022. Tidak ditemukan dalam video pernyataan yang menyebut Anies Baswedan didukung oleh orde baru.\n",
    "\n",
    "============\n",
    "[KATEGORI]\n",
    "\n",
    "Konten yang menyesatkan\n",
    "\n",
    "===========\n",
    "[SUMBER]\n",
    "\n",
    "Instagram\n",
    "https://archive.cob.web.id/archive/1687284102.451279/singlefile.html\n",
    "\n",
    "==========\n",
    "[NARASI]\n",
    "\n",
    "“Ada ORBA di belakang Anies”\n",
    "\n",
    "===============\n",
    "[PENJELASAN]\n",
    "\n",
    "Sebuah akun Instagram mengunggah video dengan klaim ada Order Baru di belakang Anies Baswedan. Video itu memperlihatkan Titiek Soeharto memberikan sambutan acara. Titiek terlihat menyebutkan anggota keluarganya yang turut hadir dalam acara.\n",
    "\n",
    "Berdasarkan penelusuran Google Lens, acara pada video tersebut merupakan kegiatan Reuni 212 di Masjid At-Tin Jakarta Timur pada Desember 2022 lalu. Tak hanya Titiek dan Rizieq, beberapa tokoh lainnya juga tampak hadir pada Reuni 212. Di antaranya Ketua Umum PA 212 Abdul Qohar, Ketum GNPF Ulama Yusuf Martak hingga Ketum Front Persaudaraan Islam Muhammad Alatas.\n",
    "\n",
    "Tidak ditemukan dalam video sebuah pernyataan bahwa Anies Baswedan didukung oleh orde baru. Unggahan tersebut termasuk dalam konten yang menyesatkan.\n",
    "\n",
    "=============\n",
    "[REFERENSI]\n",
    "\n",
    "https://youtu.be/raaqertws4g\n",
    "\n",
    "https://www.cnnindonesia.com/nasional/20221202030251-20-881691/rizieq-shihab-hingga-titiek-soeharto-hadiri-reuni-212\n",
    "''')\n",
    "coba"
   ]
  },
  {
   "cell_type": "code",
   "execution_count": null,
   "id": "124e0433",
   "metadata": {},
   "outputs": [],
   "source": [
    "model_6.predict(pd.Series(coba))"
   ]
  },
  {
   "cell_type": "code",
   "execution_count": null,
   "id": "d80d9fea",
   "metadata": {},
   "outputs": [],
   "source": [
    "np.array(['gg']).shape"
   ]
  },
  {
   "cell_type": "code",
   "execution_count": null,
   "id": "d7f373a6",
   "metadata": {},
   "outputs": [],
   "source": [
    "def word_processing(txt):\n",
    "    txt = text_preprocessing(txt)\n",
    "    txt = np.array([[y for y in x] for x in txt.split()])\n",
    "    if txt != []:\n",
    "        txt = np.hstack(txt)\n",
    "    txt = ' '.join(txt)\n",
    "    return txt"
   ]
  },
  {
   "cell_type": "code",
   "execution_count": null,
   "id": "863ce0e5",
   "metadata": {},
   "outputs": [],
   "source": [
    "word_processing('''Hasil Periksa Fakta Dyah Febriyani\n",
    "\n",
    "Faktanya video tersebut merupakan acara Reuni 212 pada tahun 2022. Tidak ditemukan dalam video pernyataan yang menyebut Anies Baswedan didukung oleh orde baru.\n",
    "\n",
    "============\n",
    "[KATEGORI]\n",
    "\n",
    "Konten yang menyesatkan\n",
    "\n",
    "===========\n",
    "[SUMBER]\n",
    "\n",
    "Instagram\n",
    "https://archive.cob.web.id/archive/1687284102.451279/singlefile.html\n",
    "\n",
    "==========\n",
    "[NARASI]\n",
    "\n",
    "“Ada ORBA di belakang Anies”\n",
    "\n",
    "===============\n",
    "[PENJELASAN]\n",
    "\n",
    "Sebuah akun Instagram mengunggah video dengan klaim ada Order Baru di belakang Anies Baswedan. Video itu memperlihatkan Titiek Soeharto memberikan sambutan acara. Titiek terlihat menyebutkan anggota keluarganya yang turut hadir dalam acara.\n",
    "\n",
    "Berdasarkan penelusuran Google Lens, acara pada video tersebut merupakan kegiatan Reuni 212 di Masjid At-Tin Jakarta Timur pada Desember 2022 lalu. Tak hanya Titiek dan Rizieq, beberapa tokoh lainnya juga tampak hadir pada Reuni 212. Di antaranya Ketua Umum PA 212 Abdul Qohar, Ketum GNPF Ulama Yusuf Martak hingga Ketum Front Persaudaraan Islam Muhammad Alatas.\n",
    "\n",
    "Tidak ditemukan dalam video sebuah pernyataan bahwa Anies Baswedan didukung oleh orde baru. Unggahan tersebut termasuk dalam konten yang menyesatkan.\n",
    "\n",
    "=============\n",
    "[REFERENSI]\n",
    "\n",
    "https://youtu.be/raaqertws4g\n",
    "\n",
    "https://www.cnnindonesia.com/nasional/20221202030251-20-881691/rizieq-shihab-hingga-titiek-soeharto-hadiri-reuni-212\n",
    "''')"
   ]
  },
  {
   "cell_type": "code",
   "execution_count": null,
   "id": "7c85a0cf",
   "metadata": {},
   "outputs": [],
   "source": [
    "char_text = raw_final['text'].apply(word_processing)"
   ]
  },
  {
   "cell_type": "code",
   "execution_count": null,
   "id": "6870d937",
   "metadata": {},
   "outputs": [],
   "source": [
    "print(seed)\n",
    "train_char_text, test_char_text, train_label, test_label = train_test_split(char_text, target, test_size=0.2, random_state=seed)"
   ]
  },
  {
   "cell_type": "code",
   "execution_count": null,
   "id": "b4f1157b",
   "metadata": {},
   "outputs": [],
   "source": [
    "avg_char = int(np.percentile([len(x.split()) for x in char_text],95))\n",
    "tvx_char = TextVectorization(\n",
    "    output_sequence_length=avg_char,\n",
    "    standardize=None,\n",
    ")\n",
    "tvx_char.adapt(char_text)\n",
    "ebd_char = Embedding(\n",
    "    input_dim=len(tvx_char.get_vocabulary()),\n",
    "    output_dim=32,\n",
    "    mask_zero=False,\n",
    "    name = 'embedding_char'\n",
    ")"
   ]
  },
  {
   "cell_type": "code",
   "execution_count": null,
   "id": "4c04dff1",
   "metadata": {},
   "outputs": [],
   "source": [
    "inputs = layers.Input(shape=(1,),dtype='string')\n",
    "lay = tvx_char(inputs)\n",
    "lay = ebd_char(lay)\n",
    "lay = layers.Conv1D(64,kernel_size=5,padding='same',activation='relu')(lay)\n",
    "lay = layers.Dropout(0.5)(lay)\n",
    "lay = layers.GlobalMaxPool1D()(lay)\n",
    "outputs = layers.Dense(1,activation='sigmoid')(lay)\n",
    "model_char = Model(inputs,outputs,name='model_char')"
   ]
  },
  {
   "cell_type": "code",
   "execution_count": null,
   "id": "329cd49b",
   "metadata": {},
   "outputs": [],
   "source": [
    "model_char.compile(loss='binary_crossentropy',optimizer='adam',metrics=['accuracy'])"
   ]
  },
  {
   "cell_type": "code",
   "execution_count": null,
   "id": "9476a1b0",
   "metadata": {
    "scrolled": true
   },
   "outputs": [],
   "source": [
    "max_mod = ModelCheckpoint(\n",
    "    filepath='weight_best.tf',\n",
    "    monitor='val_accuracy',\n",
    "    mode='max',\n",
    "    save_best_only=True\n",
    ")\n",
    "model_char.fit(\n",
    "    train_char_text,\n",
    "    train_label,\n",
    "    epochs=24,\n",
    "    validation_data=(test_char_text,test_label),\n",
    "    callbacks=[max_mod,\n",
    "              early_stop])"
   ]
  },
  {
   "cell_type": "code",
   "execution_count": null,
   "id": "940622f5",
   "metadata": {},
   "outputs": [],
   "source": [
    "model_char.load_weights('weight_best.tf/')"
   ]
  },
  {
   "cell_type": "code",
   "execution_count": null,
   "id": "c79cdb0f",
   "metadata": {},
   "outputs": [],
   "source": [
    "model_char.evaluate(test_char_text,test_label)"
   ]
  },
  {
   "cell_type": "code",
   "execution_count": null,
   "id": "4ecbc089",
   "metadata": {},
   "outputs": [],
   "source": [
    "plot_model(model_char)"
   ]
  },
  {
   "cell_type": "code",
   "execution_count": null,
   "id": "89d4cffb",
   "metadata": {},
   "outputs": [],
   "source": [
    "pred_char = np.squeeze(np.round(model_char.predict(test_char_text)))\n",
    "score_model(test_label,pred_char)"
   ]
  },
  {
   "cell_type": "code",
   "execution_count": null,
   "id": "4cb61243",
   "metadata": {},
   "outputs": [],
   "source": [
    "raw_final['kata'] = [len(x.split()) for x in text]\n",
    "def kalimat(txt):\n",
    "    txt = re.sub(r'=+','',txt)\n",
    "    txt = re.sub(r'http[^ \\n]+','',txt)\n",
    "    leng = len(re.findall(r'[^\\n.]+',txt))\n",
    "    return leng\n",
    "raw_final['kalimat'] = [kalimat(x) for x in raw_final['text']]\n",
    "raw_final"
   ]
  },
  {
   "cell_type": "code",
   "execution_count": null,
   "id": "01bf9e9f",
   "metadata": {},
   "outputs": [],
   "source": [
    "raw_final['angka'] = [len(re.findall('@',x)) for x in text]\n",
    "raw_final['link'] = [len(re.findall(r'http[^ \\n]+',x)) for x in raw_final['text']]\n",
    "raw_final"
   ]
  },
  {
   "cell_type": "code",
   "execution_count": null,
   "id": "797bb756",
   "metadata": {},
   "outputs": [],
   "source": [
    "raw_final['link'].value_counts()"
   ]
  },
  {
   "cell_type": "code",
   "execution_count": null,
   "id": "4f70094d",
   "metadata": {},
   "outputs": [],
   "source": [
    "raw_final.corr()"
   ]
  },
  {
   "cell_type": "code",
   "execution_count": null,
   "id": "e6296107",
   "metadata": {
    "scrolled": true
   },
   "outputs": [],
   "source": [
    "sns.pairplot(raw_final)"
   ]
  },
  {
   "cell_type": "code",
   "execution_count": null,
   "id": "ed120852",
   "metadata": {},
   "outputs": [],
   "source": [
    "raw_final[raw_final['kata'] <= 759]['kata'].hist(bins=30)"
   ]
  },
  {
   "cell_type": "code",
   "execution_count": null,
   "id": "d96cdf57",
   "metadata": {},
   "outputs": [],
   "source": [
    "raw_final[raw_final['kalimat'] < 54]['kalimat'].hist()"
   ]
  },
  {
   "cell_type": "code",
   "execution_count": null,
   "id": "3a4975fc",
   "metadata": {},
   "outputs": [],
   "source": [
    "raw_final[raw_final['kalimat'] <= 6]['kalimat'].value_counts()"
   ]
  },
  {
   "cell_type": "code",
   "execution_count": null,
   "id": "1ea72a51",
   "metadata": {},
   "outputs": [],
   "source": [
    "np.percentile(raw_final['kalimat'],95),np.percentile(raw_final['kata'],95),np.percentile(raw_final['angka'],95),np.percentile(raw_final['link'],95)"
   ]
  },
  {
   "cell_type": "code",
   "execution_count": null,
   "id": "bd4c4917",
   "metadata": {
    "scrolled": true
   },
   "outputs": [],
   "source": [
    "thre = np.arange(0,761,20)\n",
    "for x in range(len(thre)-1):\n",
    "    raw_final['kata'] = [x if y>thre[x] and y<=thre[x+1] else y for y in raw_final['kata']]\n",
    "raw_final['kata'] = [39 if y>760 else y for y in raw_final['kata']]\n",
    "raw_final['kata'].value_counts()"
   ]
  },
  {
   "cell_type": "code",
   "execution_count": null,
   "id": "85b53543",
   "metadata": {
    "scrolled": true
   },
   "outputs": [],
   "source": [
    "raw_final['kalimat'] = [0 if x == 1 else x for x in raw_final['kalimat']]\n",
    "thre = np.arange(1,57,5)\n",
    "for x in range(len(thre)-1):\n",
    "    raw_final['kalimat'] = [x+1 if y>thre[x] and y<=thre[x+1] else y for y in raw_final['kalimat']]\n",
    "raw_final['kalimat'] = [13 if y>54 else y for y in raw_final['kalimat']]\n",
    "raw_final['kalimat'].value_counts()"
   ]
  },
  {
   "cell_type": "code",
   "execution_count": null,
   "id": "fc85a2f9",
   "metadata": {
    "scrolled": false
   },
   "outputs": [],
   "source": [
    "thre = np.arange(1,36,2)\n",
    "for x in range(len(thre)-1):\n",
    "    raw_final['angka'] = [x+1 if y>thre[x] and y<=thre[x+1] else y for y in raw_final['angka']]\n",
    "raw_final['angka'] = [19 if y>35 else y for y in raw_final['angka']]\n",
    "raw_final['angka'].value_counts()"
   ]
  },
  {
   "cell_type": "code",
   "execution_count": null,
   "id": "935fcd92",
   "metadata": {
    "scrolled": true
   },
   "outputs": [],
   "source": [
    "raw_final['link'] = [14 if y>13 else y for y in raw_final['link']]\n",
    "raw_final['link'].value_counts()"
   ]
  },
  {
   "cell_type": "code",
   "execution_count": null,
   "id": "0ad69468",
   "metadata": {},
   "outputs": [],
   "source": [
    "kata = pd.DataFrame(tf.one_hot(raw_final['kata'],depth=38))\n",
    "kalimat = pd.DataFrame(tf.one_hot(raw_final['kalimat'],depth=12))\n",
    "link = pd.DataFrame(tf.one_hot(raw_final['link'],depth=14))\n",
    "angka = pd.DataFrame(tf.one_hot(raw_final['angka'],depth=18))"
   ]
  },
  {
   "cell_type": "code",
   "execution_count": null,
   "id": "631d9d03",
   "metadata": {},
   "outputs": [],
   "source": [
    "len(kata),len(target)"
   ]
  },
  {
   "cell_type": "code",
   "execution_count": null,
   "id": "75d2d88b",
   "metadata": {},
   "outputs": [],
   "source": [
    "train_kalimat, test_kalimat, train_label, test_label = train_test_split(kalimat, target, test_size=0.2, random_state=seed)\n",
    "train_kata, test_kata, train_label, test_label = train_test_split(kata, target, test_size=0.2, random_state=seed)\n",
    "train_angka, test_angka, train_label, test_label = train_test_split(angka, target, test_size=0.2, random_state=seed)\n",
    "train_link, test_link, train_label, test_label = train_test_split(link, target, test_size=0.2, random_state=seed)"
   ]
  },
  {
   "cell_type": "code",
   "execution_count": null,
   "id": "f82d48b6",
   "metadata": {},
   "outputs": [],
   "source": [
    "fit = raw_final[['kalimat','kata', 'angka', 'link','target']]\n",
    "train_fit_text, test_fit_text, train_label, test_label = train_test_split(fit[['kalimat', 'angka','kata', 'link']], fit['target'], test_size=0.2, random_state=seed)"
   ]
  },
  {
   "cell_type": "code",
   "execution_count": null,
   "id": "28fd6f40",
   "metadata": {},
   "outputs": [],
   "source": [
    "from sklearn.linear_model import LogisticRegression\n",
    "from sklearn.ensemble import RandomForestClassifier\n",
    "rfc = RandomForestClassifier(n_estimators=500)\n",
    "rfc.fit(train_fit_text,train_label)"
   ]
  },
  {
   "cell_type": "code",
   "execution_count": null,
   "id": "8e15208e",
   "metadata": {},
   "outputs": [],
   "source": [
    "pred_rfc = rfc.predict(test_fit_text)\n",
    "score_model(test_label,pred_rfc)"
   ]
  },
  {
   "cell_type": "code",
   "execution_count": null,
   "id": "718f1cdb",
   "metadata": {},
   "outputs": [],
   "source": [
    "ebd_hy = Embedding(\n",
    "    input_dim=max_vocab,\n",
    "    output_dim=128,\n",
    "    input_length=avg,\n",
    "    name = 'embedding_hybrid'\n",
    ")"
   ]
  },
  {
   "cell_type": "code",
   "execution_count": null,
   "id": "174f43e3",
   "metadata": {},
   "outputs": [],
   "source": [
    "#Token embedding\n",
    "input_tok = layers.Input(shape=(1,),dtype='string')\n",
    "x = tvx(input_tok)\n",
    "x = ebd_hy(x)\n",
    "x = layers.Conv1D(64,kernel_size=5,padding='same',activation='relu')(x)\n",
    "x = layers.Dropout(0.5)(x)\n",
    "x = layers.GlobalMaxPool1D()(x)\n",
    "token_model = Model(input_tok,x)\n",
    "\n",
    "#Character embedding\n",
    "input_char = layers.Input(shape=(1,),dtype='string')\n",
    "y = tvx_char(input_char)\n",
    "y = ebd_char(y)\n",
    "y = layers.Conv1D(64,kernel_size=5,padding='same',activation='relu')(y)\n",
    "y = layers.Dropout(0.5)(y)\n",
    "y = layers.GlobalMaxPool1D()(y)\n",
    "char_model = Model(input_char,y)\n",
    "\n",
    "#Concatenate\n",
    "token_char = layers.Concatenate(name='token_char_hybrid')([token_model.output,char_model.output])\n",
    "\n",
    "#Avoid overfitting\n",
    "z = layers.Dropout(0.2)(token_char)\n",
    "z = layers.Dense(32,activation='relu')(z)\n",
    "z = layers.Dropout(0.2)(z)\n",
    "outputs = layers.Dense(1,activation='sigmoid')(z)\n",
    "\n",
    "#Construct\n",
    "hybrid_model = Model(inputs=[token_model.input,char_model.input],\n",
    "                    outputs=outputs,\n",
    "                    name='hybrid_model_token_char_embedding')\n",
    "\n",
    "#Compile\n",
    "hybrid_model.compile(loss='binary_crossentropy',optimizer=tf.keras.optimizers.Adam(),metrics=['accuracy'])"
   ]
  },
  {
   "cell_type": "code",
   "execution_count": null,
   "id": "f6dff174",
   "metadata": {},
   "outputs": [],
   "source": [
    "hybrid_model.summary()"
   ]
  },
  {
   "cell_type": "code",
   "execution_count": null,
   "id": "dc544c90",
   "metadata": {},
   "outputs": [],
   "source": [
    "plot_model(hybrid_model)"
   ]
  },
  {
   "cell_type": "code",
   "execution_count": null,
   "id": "4b20646b",
   "metadata": {},
   "outputs": [],
   "source": [
    "max_mod = ModelCheckpoint(\n",
    "    filepath='weight_best.tf',\n",
    "    monitor='val_accuracy',\n",
    "    mode='max',\n",
    "    save_best_only=True\n",
    ")\n",
    "hybrid_model.fit(\n",
    "    [train_text, train_char_text],\n",
    "    train_label,\n",
    "    epochs=16,\n",
    "    validation_data=([test_text, test_char_text],test_label),\n",
    "    callbacks=[max_mod,\n",
    "              early_stop])"
   ]
  },
  {
   "cell_type": "code",
   "execution_count": null,
   "id": "6014537b",
   "metadata": {},
   "outputs": [],
   "source": [
    "hybrid_model.load_weights('weight_best.tf/')"
   ]
  },
  {
   "cell_type": "code",
   "execution_count": null,
   "id": "2157002b",
   "metadata": {},
   "outputs": [],
   "source": [
    "hybrid_model.evaluate([test_text, test_char_text],test_label)"
   ]
  },
  {
   "cell_type": "code",
   "execution_count": null,
   "id": "c39f40f5",
   "metadata": {
    "scrolled": true
   },
   "outputs": [],
   "source": [
    "pred_hybrid = np.squeeze(np.round(hybrid_model.predict([test_text, test_char_text])))\n",
    "score_model(test_label,pred_hybrid)"
   ]
  },
  {
   "cell_type": "code",
   "execution_count": null,
   "id": "427968e8",
   "metadata": {},
   "outputs": [],
   "source": [
    "ebd_tribrid = Embedding(\n",
    "    input_dim=max_vocab,\n",
    "    output_dim=128,\n",
    "    input_length=avg,\n",
    "    name = 'embedding_tribrid'\n",
    ")"
   ]
  },
  {
   "cell_type": "code",
   "execution_count": null,
   "id": "27e3b316",
   "metadata": {},
   "outputs": [],
   "source": [
    "#Token embedding\n",
    "input_tok = layers.Input(shape=(1,),dtype='string')\n",
    "x = tvx(input_tok)\n",
    "x = ebd_tribrid(x)\n",
    "x = layers.Conv1D(64,kernel_size=5,padding='same',activation='relu')(x)\n",
    "x = layers.Dropout(0.5)(x)\n",
    "x = layers.GlobalMaxPool1D()(x)\n",
    "x = layers.Dense(32,activation='relu')(x)\n",
    "token_model = Model(input_tok,x)\n",
    "\n",
    "#Character embedding\n",
    "input_char = layers.Input(shape=(1,),dtype='string')\n",
    "y = tvx_char(input_char)\n",
    "y = ebd_char(y)\n",
    "y = layers.Conv1D(64,kernel_size=5,padding='same',activation='relu')(y)\n",
    "y = layers.Dropout(0.5)(y)\n",
    "y = layers.GlobalMaxPool1D()(y)\n",
    "y = layers.Dense(32,activation='relu')(y)\n",
    "char_model = Model(input_char,y)\n",
    "\n",
    "#Kalimat\n",
    "input_kal = layers.Input(shape=(12,),dtype='int32')\n",
    "p = layers.Dense(32,activation='relu')(input_kal)\n",
    "kalimat_model = Model(input_kal,p)\n",
    "\n",
    "#Kata\n",
    "input_kat = layers.Input(shape=(38,),dtype='int32')\n",
    "q = layers.Dense(32,activation='relu')(input_kat)\n",
    "kata_model = Model(input_kat,q)\n",
    "\n",
    "#Angka\n",
    "input_ang = layers.Input(shape=(18,),dtype='int32')\n",
    "r = layers.Dense(32,activation='relu')(input_ang)\n",
    "angka_model = Model(input_ang,r)\n",
    "\n",
    "#Link\n",
    "input_lin = layers.Input(shape=(14,),dtype='int32')\n",
    "s = layers.Dense(32,activation='relu')(input_lin)\n",
    "link_model = Model(input_lin,s)\n",
    "\n",
    "#Concatenate\n",
    "token_char = layers.Concatenate(name='token_char_hybrid')([token_model.output,char_model.output])\n",
    "\n",
    "#Avoid overfitting\n",
    "z = layers.Dropout(0.5)(token_char)\n",
    "z = layers.Dense(32,activation='relu')(z)\n",
    "\n",
    "#Concatenate\n",
    "tribrid_model = layers.Concatenate(name='multimodel_tribrid')([z,kalimat_model.output,kata_model.output, \n",
    "                                                               angka_model.output,link_model.output])\n",
    "\n",
    "#Output\n",
    "final = layers.Dense(16,activation='relu')(tribrid_model)\n",
    "outputs = layers.Dense(1,activation='sigmoid')(final)\n",
    "\n",
    "#Construct\n",
    "tribrid_model = Model(inputs=[token_model.input,char_model.input,kalimat_model.input,kata_model.input,\n",
    "                             angka_model.input,link_model.input],\n",
    "                    outputs=outputs,\n",
    "                    name='tribrid_multimodel_embedding')\n",
    "\n",
    "#Compile\n",
    "tribrid_model.compile(loss='binary_crossentropy',optimizer=tf.keras.optimizers.Adam(),metrics=['accuracy'])"
   ]
  },
  {
   "cell_type": "code",
   "execution_count": null,
   "id": "0e2c6cf1",
   "metadata": {},
   "outputs": [],
   "source": [
    "tribrid_model.summary()"
   ]
  },
  {
   "cell_type": "code",
   "execution_count": null,
   "id": "c2b34f14",
   "metadata": {},
   "outputs": [],
   "source": [
    "plot_model(tribrid_model)"
   ]
  },
  {
   "cell_type": "code",
   "execution_count": null,
   "id": "8cd4f8de",
   "metadata": {
    "scrolled": true
   },
   "outputs": [],
   "source": [
    "max_mod = ModelCheckpoint(\n",
    "    filepath='weight_best.tf',\n",
    "    monitor='val_accuracy',\n",
    "    mode='max',\n",
    "    save_best_only=True\n",
    ")\n",
    "tribrid_model.fit(\n",
    "    [train_text, train_char_text, train_kalimat, train_kata, train_angka, train_link],\n",
    "    train_label,\n",
    "    epochs=16,\n",
    "    validation_data=([test_text, test_char_text, test_kalimat, test_kata, test_angka, test_link],test_label),\n",
    "    callbacks=[max_mod,\n",
    "              early_stop])"
   ]
  },
  {
   "cell_type": "code",
   "execution_count": null,
   "id": "741713b1",
   "metadata": {},
   "outputs": [],
   "source": [
    "tribrid_model.load_weights('weight_best.tf/')"
   ]
  },
  {
   "cell_type": "code",
   "execution_count": null,
   "id": "09c29cc7",
   "metadata": {},
   "outputs": [],
   "source": [
    "tribrid_model.evaluate([test_text, test_char_text, test_kalimat, test_kata, test_angka, test_link],test_label)"
   ]
  },
  {
   "cell_type": "code",
   "execution_count": null,
   "id": "d4fdcada",
   "metadata": {},
   "outputs": [],
   "source": [
    "pred_tribrid = np.squeeze(np.round(tribrid_model.predict([test_text, test_char_text, test_kalimat, test_kata, test_angka, test_link])))\n",
    "score_model(test_label,pred_tribrid)"
   ]
  },
  {
   "cell_type": "code",
   "execution_count": null,
   "id": "8645eb23",
   "metadata": {},
   "outputs": [],
   "source": [
    "vocab = tvx.get_vocabulary()\n",
    "wgt = tribrid_model.get_layer('embedding_tribrid').get_weights()[0]"
   ]
  },
  {
   "cell_type": "code",
   "execution_count": null,
   "id": "bd841935",
   "metadata": {},
   "outputs": [],
   "source": [
    "# #Code below is adapted from: https://www.tensorflow.org/tutorials/text/word_embeddings#retrieve_the_trained_word_embeddings_and_save_them_to_disk\n",
    "# import io\n",
    "\n",
    "# # Create output writers\n",
    "# out_v = io.open(\"embedding_vectors.tsv\", \"w\", encoding=\"utf-8\")\n",
    "# out_m = io.open(\"embedding_metadata.tsv\", \"w\", encoding=\"utf-8\")\n",
    "\n",
    "# # Write embedding vectors and words to file\n",
    "# for num, word in enumerate(vocab):\n",
    "#   if num == 0: \n",
    "#      continue # skip padding token\n",
    "#   vec = wgt[num]\n",
    "#   out_m.write(word + \"\\n\") # write words to file\n",
    "#   out_v.write(\"\\t\".join([str(x) for x in vec]) + \"\\n\") # write corresponding word vector to file\n",
    "# out_v.close()\n",
    "# out_m.close()\n",
    "\n",
    "# # Download files locally to upload to Embedding Projector\n",
    "# try:\n",
    "#   from google.colab import files\n",
    "# except ImportError:\n",
    "#   pass\n",
    "# else:\n",
    "#   files.download(\"embedding_vectors.tsv\")\n",
    "#   files.download(\"embedding_metadata.tsv\")"
   ]
  },
  {
   "cell_type": "code",
   "execution_count": null,
   "id": "e6b0b721",
   "metadata": {},
   "outputs": [],
   "source": []
  }
 ],
 "metadata": {
  "kernelspec": {
   "display_name": "Python 3 (ipykernel)",
   "language": "python",
   "name": "python3"
  },
  "language_info": {
   "codemirror_mode": {
    "name": "ipython",
    "version": 3
   },
   "file_extension": ".py",
   "mimetype": "text/x-python",
   "name": "python",
   "nbconvert_exporter": "python",
   "pygments_lexer": "ipython3",
   "version": "3.9.16"
  }
 },
 "nbformat": 4,
 "nbformat_minor": 5
}
